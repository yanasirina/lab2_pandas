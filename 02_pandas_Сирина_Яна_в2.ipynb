{
 "cells": [
  {
   "cell_type": "markdown",
   "metadata": {},
   "source": [
    "# Pandas"
   ]
  },
  {
   "cell_type": "markdown",
   "metadata": {},
   "source": [
    "Материалы:\n",
    "* Макрушин С.В. \"Лекция 2: Библиотека Pandas\"\n",
    "* https://pandas.pydata.org/docs/user_guide/index.html#\n",
    "* https://pandas.pydata.org/docs/reference/index.html\n",
    "* Уэс Маккини. Python и анализ данных"
   ]
  },
  {
   "cell_type": "markdown",
   "metadata": {},
   "source": [
    "## Лабораторная работа №2"
   ]
  },
  {
   "cell_type": "markdown",
   "metadata": {},
   "source": [
    "### Базовые операции с `DataFrame`"
   ]
  },
  {
   "cell_type": "code",
   "execution_count": 1,
   "metadata": {
    "scrolled": true
   },
   "outputs": [],
   "source": [
    "import pandas as pd"
   ]
  },
  {
   "cell_type": "markdown",
   "metadata": {},
   "source": [
    "1.1 В файлах `recipes_sample.csv` и `reviews_sample.csv` находится информация об рецептах блюд и отзывах на эти рецепты соответственно. Загрузите данные из файлов в виде `pd.DataFrame` с названиями `recipes` и `reviews`. Обратите внимание на корректное считывание столбца с индексами в таблице `reviews` (безымянный столбец)."
   ]
  },
  {
   "cell_type": "code",
   "execution_count": 2,
   "metadata": {},
   "outputs": [],
   "source": [
    "recipes = pd.read_csv('data/recipes_sample.csv')\n",
    "reviews = pd.read_csv('data/reviews_sample.csv', index_col=0)"
   ]
  },
  {
   "cell_type": "markdown",
   "metadata": {},
   "source": [
    "1.2 Для каждой из таблиц выведите основные параметры:\n",
    "* количество точек данных (строк);\n",
    "* количество столбцов;\n",
    "* тип данных каждого столбца."
   ]
  },
  {
   "cell_type": "code",
   "execution_count": 3,
   "metadata": {},
   "outputs": [
    {
     "name": "stdout",
     "output_type": "stream",
     "text": [
      "Строк:  30000\n",
      "Столбцов:  8\n",
      "\n",
      "name               object\n",
      "id                  int64\n",
      "minutes             int64\n",
      "contributor_id      int64\n",
      "submitted          object\n",
      "n_steps           float64\n",
      "description        object\n",
      "n_ingredients     float64\n",
      "dtype: object\n"
     ]
    }
   ],
   "source": [
    "recipes_rows = recipes.shape[0]\n",
    "recipes_columns = recipes.shape[1]\n",
    "recipes_columns_types = recipes.dtypes\n",
    "\n",
    "print('Строк: ', recipes_rows)\n",
    "print('Столбцов: ', recipes_columns)\n",
    "print()\n",
    "print(recipes_columns_types)"
   ]
  },
  {
   "cell_type": "code",
   "execution_count": 4,
   "metadata": {},
   "outputs": [
    {
     "name": "stdout",
     "output_type": "stream",
     "text": [
      "Строк:  126696\n",
      "Столбцов:  5\n",
      "\n",
      "user_id       int64\n",
      "recipe_id     int64\n",
      "date         object\n",
      "rating        int64\n",
      "review       object\n",
      "dtype: object\n"
     ]
    }
   ],
   "source": [
    "reviews_rows = reviews.shape[0]\n",
    "reviews_columns = reviews.shape[1]\n",
    "reviews_columns_types = reviews.dtypes\n",
    "\n",
    "print('Строк: ', reviews_rows)\n",
    "print('Столбцов: ', reviews_columns)\n",
    "print()\n",
    "\n",
    "print(reviews_columns_types)"
   ]
  },
  {
   "cell_type": "markdown",
   "metadata": {},
   "source": [
    "1.3 Исследуйте, в каких столбцах таблиц содержатся пропуски. Посчитайте долю строк, содержащих пропуски, в отношении к общему количеству строк."
   ]
  },
  {
   "cell_type": "code",
   "execution_count": 5,
   "metadata": {},
   "outputs": [
    {
     "name": "stdout",
     "output_type": "stream",
     "text": [
      "name              False\n",
      "id                False\n",
      "minutes           False\n",
      "contributor_id    False\n",
      "submitted         False\n",
      "n_steps            True\n",
      "description        True\n",
      "n_ingredients      True\n",
      "dtype: bool\n",
      "\n",
      "56.846666666666664\n"
     ]
    }
   ],
   "source": [
    "print(recipes.isnull().any())\n",
    "blank_recipes_rows = recipes.isnull().any(axis=1).sum()\n",
    "print()\n",
    "\n",
    "print(blank_recipes_rows / recipes.shape[0] * 100)"
   ]
  },
  {
   "cell_type": "code",
   "execution_count": 6,
   "metadata": {},
   "outputs": [
    {
     "name": "stdout",
     "output_type": "stream",
     "text": [
      "user_id      False\n",
      "recipe_id    False\n",
      "date         False\n",
      "rating       False\n",
      "review        True\n",
      "dtype: bool\n",
      "\n",
      "0.013417945317926377\n"
     ]
    }
   ],
   "source": [
    "print(reviews.isnull().any())\n",
    "blank_reviews_rows = reviews.isnull().any(axis=1).sum()\n",
    "print()\n",
    "\n",
    "print(blank_reviews_rows / reviews.shape[0] * 100)"
   ]
  },
  {
   "cell_type": "markdown",
   "metadata": {},
   "source": [
    "1.4 Рассчитайте среднее значение для каждого из числовых столбцов (где это имеет смысл)."
   ]
  },
  {
   "cell_type": "code",
   "execution_count": 7,
   "metadata": {},
   "outputs": [
    {
     "name": "stdout",
     "output_type": "stream",
     "text": [
      "123.35813333333333\n",
      "9.805582137161085\n",
      "9.008285984848484\n"
     ]
    }
   ],
   "source": [
    "avg_minutes = recipes['minutes'].mean()\n",
    "print(avg_minutes)\n",
    "\n",
    "avg_n_steps = recipes['n_steps'].mean()\n",
    "print(avg_n_steps)\n",
    "\n",
    "avg_n_ingredients = recipes['n_ingredients'].mean()\n",
    "print(avg_n_ingredients)"
   ]
  },
  {
   "cell_type": "code",
   "execution_count": 8,
   "metadata": {},
   "outputs": [
    {
     "name": "stdout",
     "output_type": "stream",
     "text": [
      "4.410802235271832\n"
     ]
    }
   ],
   "source": [
    "avg_rating = reviews['rating'].mean()\n",
    "print(avg_rating)"
   ]
  },
  {
   "cell_type": "markdown",
   "metadata": {},
   "source": [
    "1.5 Создайте серию из 10 случайных названий рецептов."
   ]
  },
  {
   "cell_type": "code",
   "execution_count": 9,
   "metadata": {
    "scrolled": true
   },
   "outputs": [
    {
     "name": "stdout",
     "output_type": "stream",
     "text": [
      "12854    grilled chicken with whiskey ginger marinade\n",
      "19013                         oh so easy pepper steak\n",
      "10070                  easy layered lasagna casserole\n",
      "883                                      apple crunch\n",
      "26116                    strawberry whipped sensation\n",
      "5014                                  champagne salad\n",
      "22525      rice cooler drink mexican style   horchata\n",
      "2006                         baked sweet potato chips\n",
      "28742            vegetarian shepherd s pie  crock pot\n",
      "28411                   unbelievably easy potato soup\n",
      "Name: name, dtype: object\n"
     ]
    }
   ],
   "source": [
    "random_recipes = recipes['name'].sample(n=10)\n",
    "print(random_recipes)"
   ]
  },
  {
   "cell_type": "markdown",
   "metadata": {},
   "source": [
    "1.6 Измените индекс в таблице `reviews`, пронумеровав строки, начиная с нуля."
   ]
  },
  {
   "cell_type": "code",
   "execution_count": 10,
   "metadata": {
    "scrolled": false
   },
   "outputs": [
    {
     "name": "stdout",
     "output_type": "stream",
     "text": [
      "           user_id  recipe_id        date  rating  \\\n",
      "0            21752      57993  2003-05-01       5   \n",
      "1           431813     142201  2007-09-16       5   \n",
      "2           400708     252013  2008-01-10       4   \n",
      "3       2001852463     404716  2017-12-11       5   \n",
      "4            95810     129396  2008-03-14       5   \n",
      "...            ...        ...         ...     ...   \n",
      "126691     1270706     335534  2009-05-17       4   \n",
      "126692     2282344       8701  2012-06-03       0   \n",
      "126693      689540     222001  2008-04-08       5   \n",
      "126694  2000242659     354979  2015-06-02       5   \n",
      "126695      463435     415599  2010-09-30       5   \n",
      "\n",
      "                                                   review  \n",
      "0       Last week whole sides of frozen salmon fillet ...  \n",
      "1       So simple and so tasty!  I used a yellow capsi...  \n",
      "2       Very nice breakfast HH, easy to make and yummy...  \n",
      "3       These are a favorite for the holidays and so e...  \n",
      "4       Excellent soup!  The tomato flavor is just gre...  \n",
      "...                                                   ...  \n",
      "126691  This recipe was great! I made it last night. I...  \n",
      "126692  This recipe is outstanding. I followed the rec...  \n",
      "126693  Well, we were not a crowd but it was a fabulou...  \n",
      "126694  I have been a steak eater and dedicated BBQ gr...  \n",
      "126695  Wonderful and simple to prepare seasoning blen...  \n",
      "\n",
      "[126696 rows x 5 columns]\n"
     ]
    }
   ],
   "source": [
    "reviews.index = range(reviews.shape[0])\n",
    "print(reviews)"
   ]
  },
  {
   "cell_type": "markdown",
   "metadata": {},
   "source": [
    "1.7 Выведите информацию о рецептах, время выполнения которых не больше 20 минут и кол-во ингредиентов в которых не больше 5."
   ]
  },
  {
   "cell_type": "code",
   "execution_count": 11,
   "metadata": {},
   "outputs": [
    {
     "name": "stdout",
     "output_type": "stream",
     "text": [
      "                                                    name      id  minutes  \\\n",
      "28                                   quick biscuit bread  302399       20   \n",
      "60                         peas  fit for a king or queen  303944       20   \n",
      "90                     hawaiian sunrise           mimosa  100837        5   \n",
      "91            tasty dish s   banana pudding in 2 minutes  286484        2   \n",
      "94                                    1 minute meatballs   11361       13   \n",
      "...                                                  ...     ...      ...   \n",
      "29873  zip and steam red potatoes with butter and garlic  304922       13   \n",
      "29874                          ziplock vanilla ice cream   74250       10   \n",
      "29905                      zucchini and corn with cheese  256177       15   \n",
      "29980               zucchini with jalapeno monterey jack  320622       10   \n",
      "29983                          zucchini with serrano ham  162411       15   \n",
      "\n",
      "       contributor_id   submitted  n_steps  \\\n",
      "28             213909  2008-05-06     11.0   \n",
      "60             213909  2008-05-16      NaN   \n",
      "90              58104  2004-09-29      4.0   \n",
      "91              47892  2008-02-13      NaN   \n",
      "94               4470  2001-09-03      NaN   \n",
      "...               ...         ...      ...   \n",
      "29873          724218  2008-05-27      9.0   \n",
      "29874           24386  2003-10-29      8.0   \n",
      "29905          305531  2007-09-29      4.0   \n",
      "29980          305531  2008-08-20      3.0   \n",
      "29983          152500  2006-03-31      6.0   \n",
      "\n",
      "                                             description  n_ingredients  \n",
      "28     this is a wonderful quick bread to make as an ...            5.0  \n",
      "60     this recipe is so simple and the flavors are s...            5.0  \n",
      "90     pineapple mimosa was changed to hawaiian sunri...            3.0  \n",
      "91     \"mmmm, i love bananas!\" a --tasty dish-- origi...            4.0  \n",
      "94     this is a real short cut for cooks in a hurry....            2.0  \n",
      "...                                                  ...            ...  \n",
      "29873  i haven't tried this yet, but i am going to so...            5.0  \n",
      "29874  a fun thing for kids to do. may want to use mi...            3.0  \n",
      "29905  from betty crocker fresh spring recipes. i lik...            5.0  \n",
      "29980                                  simple and yummy!            3.0  \n",
      "29983  this dish is from tim malzer, a german chef wh...            5.0  \n",
      "\n",
      "[2019 rows x 8 columns]\n"
     ]
    }
   ],
   "source": [
    "print(recipes[(recipes['minutes'] <= 20) & (recipes['n_ingredients'] <= 5)])"
   ]
  },
  {
   "cell_type": "markdown",
   "metadata": {},
   "source": [
    "### Работа с датами в `pandas`"
   ]
  },
  {
   "cell_type": "markdown",
   "metadata": {},
   "source": [
    "2.1 Преобразуйте столбец `submitted` из таблицы `recipes` в формат времени. Модифицируйте решение задачи 1.1 так, чтобы считать столбец сразу в нужном формате."
   ]
  },
  {
   "cell_type": "code",
   "execution_count": 12,
   "metadata": {},
   "outputs": [
    {
     "name": "stdout",
     "output_type": "stream",
     "text": [
      "name                      object\n",
      "id                         int64\n",
      "minutes                    int64\n",
      "contributor_id             int64\n",
      "submitted         datetime64[ns]\n",
      "n_steps                  float64\n",
      "description               object\n",
      "n_ingredients            float64\n",
      "dtype: object\n"
     ]
    }
   ],
   "source": [
    "\"\"\"Вариант с изменением типа в существующем столбце\"\"\"\n",
    "\n",
    "recipes['submitted'] = pd.to_datetime(recipes['submitted'])\n",
    "print(recipes.dtypes)"
   ]
  },
  {
   "cell_type": "code",
   "execution_count": 13,
   "metadata": {},
   "outputs": [
    {
     "name": "stdout",
     "output_type": "stream",
     "text": [
      "name                      object\n",
      "id                         int64\n",
      "minutes                    int64\n",
      "contributor_id             int64\n",
      "submitted         datetime64[ns]\n",
      "n_steps                  float64\n",
      "description               object\n",
      "n_ingredients            float64\n",
      "dtype: object\n"
     ]
    }
   ],
   "source": [
    "\"\"\"Вариант с считыванием столбца в нужном формате\"\"\"\n",
    "\n",
    "recipes = pd.read_csv('data/recipes_sample.csv', parse_dates=['submitted'])\n",
    "print(recipes.dtypes)"
   ]
  },
  {
   "cell_type": "markdown",
   "metadata": {},
   "source": [
    "2.2 Выведите информацию о рецептах, добавленных в датасет не позже 2010 года."
   ]
  },
  {
   "cell_type": "code",
   "execution_count": 14,
   "metadata": {},
   "outputs": [
    {
     "name": "stdout",
     "output_type": "stream",
     "text": [
      "                                               name      id  minutes  \\\n",
      "0             george s at the cove  black bean soup   44123       90   \n",
      "1                healthy for them  yogurt popsicles   67664       10   \n",
      "2                      i can t believe it s spinach   38798       30   \n",
      "3                              italian  gut busters   35173       45   \n",
      "4          love is in the air  beef fondue   sauces   84797       25   \n",
      "...                                             ...     ...      ...   \n",
      "29993                     zuni caf zucchini pickles  316950     2895   \n",
      "29995  zurie s holey rustic olive and cheddar bread  267661       80   \n",
      "29996          zwetschgenkuchen  bavarian plum cake  386977      240   \n",
      "29997   zwiebelkuchen   southwest german onion cake  103312       75   \n",
      "29999        cookies by design   cookies on a stick  298512       29   \n",
      "\n",
      "       contributor_id  submitted  n_steps  \\\n",
      "0               35193 2002-10-25      NaN   \n",
      "1               91970 2003-07-26      NaN   \n",
      "2                1533 2002-08-29      NaN   \n",
      "3               22724 2002-07-27      NaN   \n",
      "4                4470 2004-02-23      4.0   \n",
      "...               ...        ...      ...   \n",
      "29993           62264 2008-07-31      NaN   \n",
      "29995          200862 2007-11-25     16.0   \n",
      "29996          177443 2009-08-24      NaN   \n",
      "29997          161745 2004-11-03      NaN   \n",
      "29999          506822 2008-04-15      9.0   \n",
      "\n",
      "                                             description  n_ingredients  \n",
      "0      an original recipe created by chef scott meska...           18.0  \n",
      "1      my children and their friends ask for my homem...            NaN  \n",
      "2                these were so go, it surprised even me.            8.0  \n",
      "3      my sister-in-law made these for us at a family...            NaN  \n",
      "4      i think a fondue is a very romantic casual din...            NaN  \n",
      "...                                                  ...            ...  \n",
      "29993  refrigerator pickles for some of the zucchini ...            8.0  \n",
      "29995  this is based on a french recipe but i changed...           10.0  \n",
      "29996  this is a traditional fresh plum cake, thought...           11.0  \n",
      "29997  this is a traditional late summer early fall s...            NaN  \n",
      "29999  i've heard of the 'cookies by design' company,...           10.0  \n",
      "\n",
      "[27661 rows x 8 columns]\n"
     ]
    }
   ],
   "source": [
    "print(recipes[recipes['submitted'].dt.year <= 2010])"
   ]
  },
  {
   "cell_type": "markdown",
   "metadata": {},
   "source": [
    "### Работа со строковыми данными в `pandas`"
   ]
  },
  {
   "cell_type": "markdown",
   "metadata": {},
   "source": [
    "3.1  Добавьте в таблицу `recipes` столбец `description_length`, в котором хранится длина описания рецепта из столбца `description`."
   ]
  },
  {
   "cell_type": "code",
   "execution_count": 15,
   "metadata": {},
   "outputs": [
    {
     "name": "stdout",
     "output_type": "stream",
     "text": [
      "                                               name      id  minutes  \\\n",
      "0             george s at the cove  black bean soup   44123       90   \n",
      "1                healthy for them  yogurt popsicles   67664       10   \n",
      "2                      i can t believe it s spinach   38798       30   \n",
      "3                              italian  gut busters   35173       45   \n",
      "4          love is in the air  beef fondue   sauces   84797       25   \n",
      "...                                             ...     ...      ...   \n",
      "29995  zurie s holey rustic olive and cheddar bread  267661       80   \n",
      "29996          zwetschgenkuchen  bavarian plum cake  386977      240   \n",
      "29997   zwiebelkuchen   southwest german onion cake  103312       75   \n",
      "29998                                   zydeco soup  486161       60   \n",
      "29999        cookies by design   cookies on a stick  298512       29   \n",
      "\n",
      "       contributor_id  submitted  n_steps  \\\n",
      "0               35193 2002-10-25      NaN   \n",
      "1               91970 2003-07-26      NaN   \n",
      "2                1533 2002-08-29      NaN   \n",
      "3               22724 2002-07-27      NaN   \n",
      "4                4470 2004-02-23      4.0   \n",
      "...               ...        ...      ...   \n",
      "29995          200862 2007-11-25     16.0   \n",
      "29996          177443 2009-08-24      NaN   \n",
      "29997          161745 2004-11-03      NaN   \n",
      "29998          227978 2012-08-29      NaN   \n",
      "29999          506822 2008-04-15      9.0   \n",
      "\n",
      "                                             description  description_length  \\\n",
      "0      an original recipe created by chef scott meska...               330.0   \n",
      "1      my children and their friends ask for my homem...               255.0   \n",
      "2                these were so go, it surprised even me.                39.0   \n",
      "3      my sister-in-law made these for us at a family...               154.0   \n",
      "4      i think a fondue is a very romantic casual din...               587.0   \n",
      "...                                                  ...                 ...   \n",
      "29995  this is based on a french recipe but i changed...               484.0   \n",
      "29996  this is a traditional fresh plum cake, thought...               286.0   \n",
      "29997  this is a traditional late summer early fall s...               311.0   \n",
      "29998  this is a delicious soup that i originally fou...               648.0   \n",
      "29999  i've heard of the 'cookies by design' company,...               125.0   \n",
      "\n",
      "       n_ingredients  \n",
      "0               18.0  \n",
      "1                NaN  \n",
      "2                8.0  \n",
      "3                NaN  \n",
      "4                NaN  \n",
      "...              ...  \n",
      "29995           10.0  \n",
      "29996           11.0  \n",
      "29997            NaN  \n",
      "29998            NaN  \n",
      "29999           10.0  \n",
      "\n",
      "[30000 rows x 9 columns]\n"
     ]
    }
   ],
   "source": [
    "recipes.insert(7, 'description_length', recipes['description'].str.len())\n",
    "print(recipes)"
   ]
  },
  {
   "cell_type": "markdown",
   "metadata": {},
   "source": [
    "3.2 Измените название каждого рецепта в таблице `recipes` таким образом, чтобы каждое слово в названии начиналось с прописной буквы."
   ]
  },
  {
   "cell_type": "code",
   "execution_count": 16,
   "metadata": {},
   "outputs": [
    {
     "name": "stdout",
     "output_type": "stream",
     "text": [
      "                                               name      id  minutes  \\\n",
      "0             George S At The Cove  Black Bean Soup   44123       90   \n",
      "1                Healthy For Them  Yogurt Popsicles   67664       10   \n",
      "2                      I Can T Believe It S Spinach   38798       30   \n",
      "3                              Italian  Gut Busters   35173       45   \n",
      "4          Love Is In The Air  Beef Fondue   Sauces   84797       25   \n",
      "...                                             ...     ...      ...   \n",
      "29995  Zurie S Holey Rustic Olive And Cheddar Bread  267661       80   \n",
      "29996          Zwetschgenkuchen  Bavarian Plum Cake  386977      240   \n",
      "29997   Zwiebelkuchen   Southwest German Onion Cake  103312       75   \n",
      "29998                                   Zydeco Soup  486161       60   \n",
      "29999        Cookies By Design   Cookies On A Stick  298512       29   \n",
      "\n",
      "       contributor_id  submitted  n_steps  \\\n",
      "0               35193 2002-10-25      NaN   \n",
      "1               91970 2003-07-26      NaN   \n",
      "2                1533 2002-08-29      NaN   \n",
      "3               22724 2002-07-27      NaN   \n",
      "4                4470 2004-02-23      4.0   \n",
      "...               ...        ...      ...   \n",
      "29995          200862 2007-11-25     16.0   \n",
      "29996          177443 2009-08-24      NaN   \n",
      "29997          161745 2004-11-03      NaN   \n",
      "29998          227978 2012-08-29      NaN   \n",
      "29999          506822 2008-04-15      9.0   \n",
      "\n",
      "                                             description  description_length  \\\n",
      "0      an original recipe created by chef scott meska...               330.0   \n",
      "1      my children and their friends ask for my homem...               255.0   \n",
      "2                these were so go, it surprised even me.                39.0   \n",
      "3      my sister-in-law made these for us at a family...               154.0   \n",
      "4      i think a fondue is a very romantic casual din...               587.0   \n",
      "...                                                  ...                 ...   \n",
      "29995  this is based on a french recipe but i changed...               484.0   \n",
      "29996  this is a traditional fresh plum cake, thought...               286.0   \n",
      "29997  this is a traditional late summer early fall s...               311.0   \n",
      "29998  this is a delicious soup that i originally fou...               648.0   \n",
      "29999  i've heard of the 'cookies by design' company,...               125.0   \n",
      "\n",
      "       n_ingredients  \n",
      "0               18.0  \n",
      "1                NaN  \n",
      "2                8.0  \n",
      "3                NaN  \n",
      "4                NaN  \n",
      "...              ...  \n",
      "29995           10.0  \n",
      "29996           11.0  \n",
      "29997            NaN  \n",
      "29998            NaN  \n",
      "29999           10.0  \n",
      "\n",
      "[30000 rows x 9 columns]\n"
     ]
    }
   ],
   "source": [
    "recipes['name'] = recipes['name'].str.title()\n",
    "print(recipes)"
   ]
  },
  {
   "cell_type": "markdown",
   "metadata": {},
   "source": [
    "3.3 Добавьте в таблицу `recipes` столбец `name_word_count`, в котором хранится количество слов из названии рецепта (считайте, что слова в названии разделяются только пробелами). Обратите внимание, что между словами может располагаться несколько пробелов подряд."
   ]
  },
  {
   "cell_type": "code",
   "execution_count": 17,
   "metadata": {},
   "outputs": [
    {
     "name": "stdout",
     "output_type": "stream",
     "text": [
      "                                               name  name_word_count      id  \\\n",
      "0             George S At The Cove  Black Bean Soup                8   44123   \n",
      "1                Healthy For Them  Yogurt Popsicles                5   67664   \n",
      "2                      I Can T Believe It S Spinach                7   38798   \n",
      "3                              Italian  Gut Busters                3   35173   \n",
      "4          Love Is In The Air  Beef Fondue   Sauces                8   84797   \n",
      "...                                             ...              ...     ...   \n",
      "29995  Zurie S Holey Rustic Olive And Cheddar Bread                8  267661   \n",
      "29996          Zwetschgenkuchen  Bavarian Plum Cake                4  386977   \n",
      "29997   Zwiebelkuchen   Southwest German Onion Cake                5  103312   \n",
      "29998                                   Zydeco Soup                2  486161   \n",
      "29999        Cookies By Design   Cookies On A Stick                7  298512   \n",
      "\n",
      "       minutes  contributor_id  submitted  n_steps  \\\n",
      "0           90           35193 2002-10-25      NaN   \n",
      "1           10           91970 2003-07-26      NaN   \n",
      "2           30            1533 2002-08-29      NaN   \n",
      "3           45           22724 2002-07-27      NaN   \n",
      "4           25            4470 2004-02-23      4.0   \n",
      "...        ...             ...        ...      ...   \n",
      "29995       80          200862 2007-11-25     16.0   \n",
      "29996      240          177443 2009-08-24      NaN   \n",
      "29997       75          161745 2004-11-03      NaN   \n",
      "29998       60          227978 2012-08-29      NaN   \n",
      "29999       29          506822 2008-04-15      9.0   \n",
      "\n",
      "                                             description  description_length  \\\n",
      "0      an original recipe created by chef scott meska...               330.0   \n",
      "1      my children and their friends ask for my homem...               255.0   \n",
      "2                these were so go, it surprised even me.                39.0   \n",
      "3      my sister-in-law made these for us at a family...               154.0   \n",
      "4      i think a fondue is a very romantic casual din...               587.0   \n",
      "...                                                  ...                 ...   \n",
      "29995  this is based on a french recipe but i changed...               484.0   \n",
      "29996  this is a traditional fresh plum cake, thought...               286.0   \n",
      "29997  this is a traditional late summer early fall s...               311.0   \n",
      "29998  this is a delicious soup that i originally fou...               648.0   \n",
      "29999  i've heard of the 'cookies by design' company,...               125.0   \n",
      "\n",
      "       n_ingredients  \n",
      "0               18.0  \n",
      "1                NaN  \n",
      "2                8.0  \n",
      "3                NaN  \n",
      "4                NaN  \n",
      "...              ...  \n",
      "29995           10.0  \n",
      "29996           11.0  \n",
      "29997            NaN  \n",
      "29998            NaN  \n",
      "29999           10.0  \n",
      "\n",
      "[30000 rows x 10 columns]\n"
     ]
    }
   ],
   "source": [
    "recipes.insert(1, 'name_word_count', recipes['name'].str.split().str.len())\n",
    "print(recipes)"
   ]
  },
  {
   "cell_type": "markdown",
   "metadata": {},
   "source": [
    "### Группировки таблиц `pd.DataFrame`"
   ]
  },
  {
   "cell_type": "markdown",
   "metadata": {},
   "source": [
    "4.1 Посчитайте количество рецептов, представленных каждым из участников (`contributor_id`). Какой участник добавил максимальное кол-во рецептов?"
   ]
  },
  {
   "cell_type": "code",
   "execution_count": 18,
   "metadata": {
    "scrolled": true
   },
   "outputs": [
    {
     "name": "stdout",
     "output_type": "stream",
     "text": [
      "      contributor_id  recipes_count\n",
      "0               1530              5\n",
      "1               1533            186\n",
      "2               1534             50\n",
      "3               1535             40\n",
      "4               1538              8\n",
      "...              ...            ...\n",
      "8399      2001968497              2\n",
      "8400      2002059754              1\n",
      "8401      2002234079              1\n",
      "8402      2002234259              1\n",
      "8403      2002247884              1\n",
      "\n",
      "[8404 rows x 2 columns]\n",
      "\n",
      "      contributor_id  recipes_count\n",
      "1768           89831            421\n"
     ]
    }
   ],
   "source": [
    "# сгруппируем рецепты по участникам и добавим колонку с количество рецептов\n",
    "recipes_by_contributor = recipes.groupby('contributor_id', as_index=False)\n",
    "recipes_by_contributor = recipes_by_contributor['id'].count()\n",
    "\n",
    "# переименуем колонки для понятного вывода и дальнейшего обращения к ним\n",
    "recipes_by_contributor.columns = ['contributor_id', 'recipes_count']\n",
    "print(recipes_by_contributor)\n",
    "print()\n",
    "\n",
    "# отсортируем по количеству рецептов и выведем первую строку\n",
    "print(recipes_by_contributor.sort_values(by='recipes_count', ascending=False).head(1))"
   ]
  },
  {
   "cell_type": "markdown",
   "metadata": {},
   "source": [
    "4.2 Посчитайте средний рейтинг к каждому из рецептов. Для скольких рецептов отсутствуют отзывы? Обратите внимание, что отзыв с нулевым рейтингом или не заполненным текстовым описанием не считается отсутствующим."
   ]
  },
  {
   "cell_type": "code",
   "execution_count": 19,
   "metadata": {},
   "outputs": [
    {
     "name": "stdout",
     "output_type": "stream",
     "text": [
      "recipe_id\n",
      "48        1.000000\n",
      "55        4.750000\n",
      "66        4.944444\n",
      "91        4.750000\n",
      "94        5.000000\n",
      "            ...   \n",
      "536547    5.000000\n",
      "536610    0.000000\n",
      "536728    4.000000\n",
      "536729    4.750000\n",
      "536747    0.000000\n",
      "Name: rating, Length: 28100, dtype: float64\n",
      "\n",
      "1900\n"
     ]
    }
   ],
   "source": [
    "average_rating = reviews.groupby('recipe_id')['rating'].mean()\n",
    "print(average_rating)\n",
    "print()\n",
    "\n",
    "# вычтем из всех рецептов те, на которые есть отзывы\n",
    "print(recipes['id'].shape[0] - average_rating.shape[0])"
   ]
  },
  {
   "cell_type": "markdown",
   "metadata": {},
   "source": [
    "4.3 Посчитайте количество рецептов с разбивкой по годам создания."
   ]
  },
  {
   "cell_type": "code",
   "execution_count": 20,
   "metadata": {
    "scrolled": false
   },
   "outputs": [
    {
     "name": "stdout",
     "output_type": "stream",
     "text": [
      "submitted\n",
      "1999     275\n",
      "2000     104\n",
      "2001     589\n",
      "2002    2644\n",
      "2003    2334\n",
      "2004    2153\n",
      "2005    3130\n",
      "2006    3473\n",
      "2007    4429\n",
      "2008    4029\n",
      "2009    2963\n",
      "2010    1538\n",
      "2011     922\n",
      "2012     659\n",
      "2013     490\n",
      "2014     139\n",
      "2015      42\n",
      "2016      24\n",
      "2017      39\n",
      "2018      24\n",
      "Name: id, dtype: int64\n"
     ]
    }
   ],
   "source": [
    "print(recipes.groupby(recipes.submitted.dt.year)['id'].count())"
   ]
  },
  {
   "cell_type": "markdown",
   "metadata": {},
   "source": [
    "### Объединение таблиц `pd.DataFrame`"
   ]
  },
  {
   "cell_type": "markdown",
   "metadata": {},
   "source": [
    "5.1 При помощи объединения таблиц, создайте `DataFrame`, состоящий из четырех столбцов: `id`, `name`, `user_id`, `rating`. Рецепты, на которые не оставлен ни один отзыв, должны отсутствовать в полученной таблице. Подтвердите правильность работы вашего кода, выбрав рецепт, не имеющий отзывов, и попытавшись найти строку, соответствующую этому рецепту, в полученном `DataFrame`."
   ]
  },
  {
   "cell_type": "code",
   "execution_count": null,
   "metadata": {},
   "outputs": [],
   "source": []
  },
  {
   "cell_type": "markdown",
   "metadata": {},
   "source": [
    "5.2 При помощи объединения таблиц и группировок, создайте `DataFrame`, состоящий из трех столбцов: `recipe_id`, `name`, `review_count`, где столбец `review_count` содержит кол-во отзывов, оставленных на рецепт `recipe_id`. У рецептов, на которые не оставлен ни один отзыв, в столбце `review_count` должен быть указан 0. Подтвердите правильность работы вашего кода, выбрав рецепт, не имеющий отзывов, и найдя строку, соответствующую этому рецепту, в полученном `DataFrame`."
   ]
  },
  {
   "cell_type": "markdown",
   "metadata": {},
   "source": [
    "5.3. Выясните, рецепты, добавленные в каком году, имеют наименьший средний рейтинг?"
   ]
  },
  {
   "cell_type": "markdown",
   "metadata": {},
   "source": [
    "### Сохранение таблиц `pd.DataFrame`"
   ]
  },
  {
   "cell_type": "markdown",
   "metadata": {},
   "source": [
    "6.1 Отсортируйте таблицу в порядке убывания величины столбца `name_word_count` и сохраните результаты выполнения заданий 3.1-3.3 в csv файл. "
   ]
  },
  {
   "cell_type": "markdown",
   "metadata": {},
   "source": [
    "6.2 Воспользовавшись `pd.ExcelWriter`, cохраните результаты 5.1 и 5.2 в файл: на лист с названием `Рецепты с оценками` сохраните результаты выполнения 5.1; на лист с названием `Количество отзывов по рецептам` сохраните результаты выполнения 5.2."
   ]
  }
 ],
 "metadata": {
  "kernelspec": {
   "display_name": "Python 3 (ipykernel)",
   "language": "python",
   "name": "python3"
  },
  "language_info": {
   "codemirror_mode": {
    "name": "ipython",
    "version": 3
   },
   "file_extension": ".py",
   "mimetype": "text/x-python",
   "name": "python",
   "nbconvert_exporter": "python",
   "pygments_lexer": "ipython3",
   "version": "3.10.9"
  }
 },
 "nbformat": 4,
 "nbformat_minor": 4
}
